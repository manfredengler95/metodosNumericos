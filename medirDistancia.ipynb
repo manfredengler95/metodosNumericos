{
 "cells": [
  {
   "cell_type": "code",
   "execution_count": null,
   "metadata": {
    "collapsed": true
   },
   "outputs": [],
   "source": [
    "import cv2\n",
    "import numpy as np\n",
    "\n",
    "def distacia():\n",
    "    #Captura de video a traves de la webcam\n",
    "    cap=cv2.VideoCapture(0)\n",
    "\n",
    "    while(1):\n",
    "        d=0.1\n",
    "        centers=[]\n",
    "        _, img = cap.read()\n",
    "\n",
    "        hsv=cv2.cvtColor(img,cv2.COLOR_BGR2HSV) #Se obtiene un histograma basada en las saturaciones de colores.\n",
    "\n",
    "        blue_lower=np.array([150, 150, 50],np.uint8)\n",
    "        blue_upper=np.array([255,255,255],np.uint8)\n",
    "\n",
    "        blue=cv2.inRange(hsv,blue_lower,blue_upper) #Se crea una mascara utilizando intervalos de color azul.\n",
    "\n",
    "        kernal = np.ones((5 ,5), \"uint8\") #Crea una matriz de 5x5 la cual recorrera el video,\n",
    "\n",
    "        blue=cv2.erode(blue,kernal, iterations=1) #Se erosiona utilizando el kernel sobre la mascara.\n",
    "        res1=cv2.bitwise_and(img, img, mask = blue) #La nueva imagen reemplazara a blue.\n",
    "\n",
    "\n",
    "        (_,contours,hierarchy)=cv2.findContours(blue,cv2.RETR_TREE,cv2.CHAIN_APPROX_SIMPLE) #Encuentra los contornos de los objetos que se ven en el filtro\n",
    "\n",
    "        for pic, contour in enumerate(contours):\n",
    "            area = cv2.contourArea(contour) #funcion de opencv que obtiene los contornos\n",
    "            if(area>300):\n",
    "                x,y,w,h = cv2.boundingRect(contour) #Encuentra coordenadas de los contornos.\n",
    "                print(\"Tam pix: \" + str(x) + \" \" +  str(y))\n",
    "                img = cv2.rectangle(img,(x,y),(x+w,y+h),(255,0,0),2)\n",
    "                cv2.putText(img,\"Marcador\",(x,y),cv2.FONT_HERSHEY_SIMPLEX, 0.7, (255,0,0))\n",
    "\n",
    "\n",
    "                M = cv2.moments(contour) #Se obtiene el centro de masa de los marcadores enconrados.\n",
    "                cx = int(M['m10'] /M['m00'])\n",
    "                cy = int(M['m01'] /M['m00'])\n",
    "                centers.append([cx,cy])\n",
    "                cv2.circle(img, (cx, cy), 7, (255, 255, 255), -1)\n",
    "\n",
    "            if len(centers)==2:\n",
    "                D = np.linalg.norm(cx-cy) #Se aplica distancia euclidiana para encontrar la distancia entre los centros de masa.\n",
    "                print(D)\n",
    "\n",
    "\n",
    "        cv2.imshow(\"Color Tracking\",img)\n",
    "        if cv2.waitKey(10) & 0xFF == ord('q'):\n",
    "            cap.release()\n",
    "            cv2.destroyAllWindows()\n",
    "            break\n",
    "            \n",
    "medirdistancia.distacia()"
   ]
  }
 ],
 "metadata": {
  "kernelspec": {
   "display_name": "Python 2",
   "language": "python",
   "name": "python2"
  },
  "language_info": {
   "codemirror_mode": {
    "name": "ipython",
    "version": 2
   },
   "file_extension": ".py",
   "mimetype": "text/x-python",
   "name": "python",
   "nbconvert_exporter": "python",
   "pygments_lexer": "ipython2",
   "version": "2.7.6"
  }
 },
 "nbformat": 4,
 "nbformat_minor": 0
}
